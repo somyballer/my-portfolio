{
 "cells": [
  {
   "cell_type": "code",
   "execution_count": 1,
   "id": "bcc4f62c-551f-4574-ae03-adb6227c75be",
   "metadata": {},
   "outputs": [],
   "source": [
    "%matplotlib inline"
   ]
  },
  {
   "cell_type": "code",
   "execution_count": 2,
   "id": "b4e4fa23-88af-48f6-9030-c8c50dd393fe",
   "metadata": {},
   "outputs": [],
   "source": [
    "import numpy as np\n",
    "import matplotlib.pyplot as plt\n",
    "import cv2\n",
    "import os"
   ]
  },
  {
   "cell_type": "code",
   "execution_count": 3,
   "id": "68a0a6f0-2f20-42cb-b885-75f6ce3ea2ea",
   "metadata": {},
   "outputs": [],
   "source": [
    "pineapple_folder = \"D:/archive 66/Fruits_1/Training/Pineapple\"\n",
    "pineapplemini_folder = \"D:/archive 66/Fruits_1/Training/Pineapple Mini\"\n",
    "raspberry_folder = \"D:/archive 66/Fruits_1/Training/Raspberry\"\n",
    "redkurant_folder = \"D:/archive 66/Fruits_1/Training/Redcurrant\"\n",
    "strawberry_folder = \"D:/archive 66/Fruits_1/Training/Strawberry\"\n",
    "strawberrywedge_folder = \"D:/archive 66/Fruits_1/Training/Strawberry Wedge\""
   ]
  },
  {
   "cell_type": "code",
   "execution_count": null,
   "id": "4682b6b2-04d4-4d65-aaf8-24ef715ee18d",
   "metadata": {},
   "outputs": [],
   "source": [
    "  for filename in os.listdir(pineapple_folder):\n",
    "        img_path = os.path.join(pineapple_folder, filename)\n",
    "        print(img_path)\n",
    "        "
   ]
  }
 ],
 "metadata": {
  "kernelspec": {
   "display_name": "Python 3 (ipykernel)",
   "language": "python",
   "name": "python3"
  },
  "language_info": {
   "codemirror_mode": {
    "name": "ipython",
    "version": 3
   },
   "file_extension": ".py",
   "mimetype": "text/x-python",
   "name": "python",
   "nbconvert_exporter": "python",
   "pygments_lexer": "ipython3",
   "version": "3.12.4"
  }
 },
 "nbformat": 4,
 "nbformat_minor": 5
}
